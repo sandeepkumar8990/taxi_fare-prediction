{
 "cells": [
  {
   "cell_type": "markdown",
   "metadata": {},
   "source": [
    "**problem statement :**\n",
    "\n",
    "The predicting of fare amount (inclusive of tolls) for a taxi ride, given the pickup and dropoff locations,the pickup date time and many other attributes given below.\n",
    "\n",
    "**Target :**\n",
    "\n",
    "fare_amount\n",
    "\n",
    "**description of variables**\n",
    "\n",
    "TID:-Unique ID\n",
    "\n",
    "Vendor_ID:-Technology service vendor associated with cab company\n",
    "\n",
    "New_User:-If a new user is taking the ride\n",
    "\n",
    "toll_price:-toll tax amount\n",
    "\n",
    "tip_amount:-tip given to driver (if any)\n",
    "\n",
    "tax:-applicable tax\n",
    "\n",
    "pickup_timestamp:-time at which the ride started\n",
    "\n",
    "dropoff_timestamp:-time at which ride ended\n",
    "\n",
    "passenger_count:-number of passenger during the ride\n",
    "\n",
    "pickup_longitude:-pickup location longitude data\n",
    "\n",
    "pickup_latitude:-pickup location latitude data\n",
    "\n",
    "rate_category:-category assigned to different rates at which a customer is charged\n",
    "\n",
    "store_and_fwd:-if driver stored the data offline and later forwarded\n",
    "\n",
    "dropoff_longitude:-drop off longitude data\n",
    "\n",
    "dropoff_latitude:-drop off latitude data\n",
    "\n",
    "payment_type:-payment mode used by the customer (CRD = Credit Card, CSH - Cash, DIS - dispute, NOC - No Charge, UNK - Unknown)\n",
    "\n",
    "surcharge:-surchage applicable on the trip\n",
    "\n",
    "fare_amount:-trip fare (to be predicted)"
   ]
  },
  {
   "cell_type": "code",
   "execution_count": 1,
   "metadata": {},
   "outputs": [],
   "source": [
    "import pandas as pd\n",
    "import numpy as np\n",
    "from sklearn.model_selection import train_test_split\n",
    "from sklearn.preprocessing import StandardScaler\n",
    "import matplotlib.pyplot as plt\n",
    "import seaborn as sns\n",
    "%matplotlib inline\n",
    "from sklearn.impute import SimpleImputer"
   ]
  },
  {
   "cell_type": "code",
   "execution_count": 2,
   "metadata": {},
   "outputs": [],
   "source": [
    "# reading the train.csv \n",
    "data=pd.read_csv(\"../input/train.csv\") \n",
    "#reading the test data\n",
    "test=pd.read_csv(\"../input/test.csv\")"
   ]
  },
  {
   "cell_type": "code",
   "execution_count": 3,
   "metadata": {},
   "outputs": [
    {
     "data": {
      "text/html": [
       "<div>\n",
       "<style scoped>\n",
       "    .dataframe tbody tr th:only-of-type {\n",
       "        vertical-align: middle;\n",
       "    }\n",
       "\n",
       "    .dataframe tbody tr th {\n",
       "        vertical-align: top;\n",
       "    }\n",
       "\n",
       "    .dataframe thead th {\n",
       "        text-align: right;\n",
       "    }\n",
       "</style>\n",
       "<table border=\"1\" class=\"dataframe\">\n",
       "  <thead>\n",
       "    <tr style=\"text-align: right;\">\n",
       "      <th></th>\n",
       "      <th>TID</th>\n",
       "      <th>vendor_id</th>\n",
       "      <th>new_user</th>\n",
       "      <th>tolls_amount</th>\n",
       "      <th>tip_amount</th>\n",
       "      <th>mta_tax</th>\n",
       "      <th>pickup_datetime</th>\n",
       "      <th>dropoff_datetime</th>\n",
       "      <th>passenger_count</th>\n",
       "      <th>pickup_longitude</th>\n",
       "      <th>pickup_latitude</th>\n",
       "      <th>rate_code</th>\n",
       "      <th>store_and_fwd_flag</th>\n",
       "      <th>dropoff_longitude</th>\n",
       "      <th>dropoff_latitude</th>\n",
       "      <th>payment_type</th>\n",
       "      <th>surcharge</th>\n",
       "      <th>fare_amount</th>\n",
       "    </tr>\n",
       "  </thead>\n",
       "  <tbody>\n",
       "    <tr>\n",
       "      <td>0</td>\n",
       "      <td>AIX000688685</td>\n",
       "      <td>DST000532</td>\n",
       "      <td>NO</td>\n",
       "      <td>5.33</td>\n",
       "      <td>NaN</td>\n",
       "      <td>0.5</td>\n",
       "      <td>2015-06-26 21:26:00</td>\n",
       "      <td>2015-06-26 21:52:00</td>\n",
       "      <td>3</td>\n",
       "      <td>-73.865990</td>\n",
       "      <td>40.770710</td>\n",
       "      <td>1</td>\n",
       "      <td>NaN</td>\n",
       "      <td>-73.985572</td>\n",
       "      <td>40.776607</td>\n",
       "      <td>CSH</td>\n",
       "      <td>0.5</td>\n",
       "      <td>38.33</td>\n",
       "    </tr>\n",
       "    <tr>\n",
       "      <td>1</td>\n",
       "      <td>AIX000411386</td>\n",
       "      <td>DST000532</td>\n",
       "      <td>NO</td>\n",
       "      <td>0.00</td>\n",
       "      <td>1.9</td>\n",
       "      <td>0.5</td>\n",
       "      <td>2015-04-09 13:24:00</td>\n",
       "      <td>2015-04-09 13:36:00</td>\n",
       "      <td>1</td>\n",
       "      <td>-73.991757</td>\n",
       "      <td>40.735312</td>\n",
       "      <td>1</td>\n",
       "      <td>NaN</td>\n",
       "      <td>-74.002815</td>\n",
       "      <td>40.748917</td>\n",
       "      <td>CRD</td>\n",
       "      <td>0.0</td>\n",
       "      <td>11.90</td>\n",
       "    </tr>\n",
       "    <tr>\n",
       "      <td>2</td>\n",
       "      <td>AIX0001135810</td>\n",
       "      <td>DST000401</td>\n",
       "      <td>NO</td>\n",
       "      <td>0.00</td>\n",
       "      <td>3.0</td>\n",
       "      <td>0.5</td>\n",
       "      <td>2015-09-13 14:12:30</td>\n",
       "      <td>2015-09-13 14:30:57</td>\n",
       "      <td>1</td>\n",
       "      <td>-73.948541</td>\n",
       "      <td>40.789180</td>\n",
       "      <td>1</td>\n",
       "      <td>N</td>\n",
       "      <td>-73.978704</td>\n",
       "      <td>40.748040</td>\n",
       "      <td>CRD</td>\n",
       "      <td>0.0</td>\n",
       "      <td>18.00</td>\n",
       "    </tr>\n",
       "    <tr>\n",
       "      <td>3</td>\n",
       "      <td>AIX0001005019</td>\n",
       "      <td>DST000401</td>\n",
       "      <td>NO</td>\n",
       "      <td>0.00</td>\n",
       "      <td>NaN</td>\n",
       "      <td>0.5</td>\n",
       "      <td>2015-07-27 08:37:32</td>\n",
       "      <td>2015-07-27 08:42:02</td>\n",
       "      <td>2</td>\n",
       "      <td>-73.974527</td>\n",
       "      <td>40.755829</td>\n",
       "      <td>1</td>\n",
       "      <td>N</td>\n",
       "      <td>-73.977303</td>\n",
       "      <td>40.758622</td>\n",
       "      <td>CSH</td>\n",
       "      <td>0.0</td>\n",
       "      <td>5.00</td>\n",
       "    </tr>\n",
       "    <tr>\n",
       "      <td>4</td>\n",
       "      <td>AIX000393080</td>\n",
       "      <td>DST000532</td>\n",
       "      <td>NO</td>\n",
       "      <td>0.00</td>\n",
       "      <td>0.0</td>\n",
       "      <td>0.5</td>\n",
       "      <td>2015-04-26 23:23:00</td>\n",
       "      <td>2015-04-26 23:36:00</td>\n",
       "      <td>5</td>\n",
       "      <td>-73.998870</td>\n",
       "      <td>40.724800</td>\n",
       "      <td>1</td>\n",
       "      <td>NaN</td>\n",
       "      <td>-73.958580</td>\n",
       "      <td>40.708610</td>\n",
       "      <td>CRD</td>\n",
       "      <td>0.5</td>\n",
       "      <td>13.50</td>\n",
       "    </tr>\n",
       "  </tbody>\n",
       "</table>\n",
       "</div>"
      ],
      "text/plain": [
       "             TID  vendor_id new_user  tolls_amount  tip_amount  mta_tax  \\\n",
       "0   AIX000688685  DST000532       NO          5.33         NaN      0.5   \n",
       "1   AIX000411386  DST000532       NO          0.00         1.9      0.5   \n",
       "2  AIX0001135810  DST000401       NO          0.00         3.0      0.5   \n",
       "3  AIX0001005019  DST000401       NO          0.00         NaN      0.5   \n",
       "4   AIX000393080  DST000532       NO          0.00         0.0      0.5   \n",
       "\n",
       "       pickup_datetime     dropoff_datetime  passenger_count  \\\n",
       "0  2015-06-26 21:26:00  2015-06-26 21:52:00                3   \n",
       "1  2015-04-09 13:24:00  2015-04-09 13:36:00                1   \n",
       "2  2015-09-13 14:12:30  2015-09-13 14:30:57                1   \n",
       "3  2015-07-27 08:37:32  2015-07-27 08:42:02                2   \n",
       "4  2015-04-26 23:23:00  2015-04-26 23:36:00                5   \n",
       "\n",
       "   pickup_longitude  pickup_latitude  rate_code store_and_fwd_flag  \\\n",
       "0        -73.865990        40.770710          1                NaN   \n",
       "1        -73.991757        40.735312          1                NaN   \n",
       "2        -73.948541        40.789180          1                  N   \n",
       "3        -73.974527        40.755829          1                  N   \n",
       "4        -73.998870        40.724800          1                NaN   \n",
       "\n",
       "   dropoff_longitude  dropoff_latitude payment_type  surcharge  fare_amount  \n",
       "0         -73.985572         40.776607          CSH        0.5        38.33  \n",
       "1         -74.002815         40.748917          CRD        0.0        11.90  \n",
       "2         -73.978704         40.748040          CRD        0.0        18.00  \n",
       "3         -73.977303         40.758622          CSH        0.0         5.00  \n",
       "4         -73.958580         40.708610          CRD        0.5        13.50  "
      ]
     },
     "execution_count": 3,
     "metadata": {},
     "output_type": "execute_result"
    }
   ],
   "source": [
    "data.head()"
   ]
  },
  {
   "cell_type": "code",
   "execution_count": 4,
   "metadata": {},
   "outputs": [
    {
     "data": {
      "text/plain": [
       "(87958, 18)"
      ]
     },
     "execution_count": 4,
     "metadata": {},
     "output_type": "execute_result"
    }
   ],
   "source": [
    "data.shape"
   ]
  },
  {
   "cell_type": "code",
   "execution_count": 5,
   "metadata": {},
   "outputs": [
    {
     "data": {
      "text/html": [
       "<div>\n",
       "<style scoped>\n",
       "    .dataframe tbody tr th:only-of-type {\n",
       "        vertical-align: middle;\n",
       "    }\n",
       "\n",
       "    .dataframe tbody tr th {\n",
       "        vertical-align: top;\n",
       "    }\n",
       "\n",
       "    .dataframe thead th {\n",
       "        text-align: right;\n",
       "    }\n",
       "</style>\n",
       "<table border=\"1\" class=\"dataframe\">\n",
       "  <thead>\n",
       "    <tr style=\"text-align: right;\">\n",
       "      <th></th>\n",
       "      <th>tolls_amount</th>\n",
       "      <th>tip_amount</th>\n",
       "      <th>mta_tax</th>\n",
       "      <th>passenger_count</th>\n",
       "      <th>pickup_longitude</th>\n",
       "      <th>pickup_latitude</th>\n",
       "      <th>rate_code</th>\n",
       "      <th>dropoff_longitude</th>\n",
       "      <th>dropoff_latitude</th>\n",
       "      <th>surcharge</th>\n",
       "      <th>fare_amount</th>\n",
       "    </tr>\n",
       "  </thead>\n",
       "  <tbody>\n",
       "    <tr>\n",
       "      <td>count</td>\n",
       "      <td>87958.000000</td>\n",
       "      <td>79150.000000</td>\n",
       "      <td>87958.000000</td>\n",
       "      <td>87958.000000</td>\n",
       "      <td>85346.000000</td>\n",
       "      <td>86168.000000</td>\n",
       "      <td>87958.000000</td>\n",
       "      <td>87679.000000</td>\n",
       "      <td>87544.000000</td>\n",
       "      <td>82693.000000</td>\n",
       "      <td>87958.000000</td>\n",
       "    </tr>\n",
       "    <tr>\n",
       "      <td>mean</td>\n",
       "      <td>0.271402</td>\n",
       "      <td>1.532579</td>\n",
       "      <td>0.497948</td>\n",
       "      <td>1.734908</td>\n",
       "      <td>-72.588214</td>\n",
       "      <td>39.991795</td>\n",
       "      <td>1.035312</td>\n",
       "      <td>-72.599128</td>\n",
       "      <td>39.995261</td>\n",
       "      <td>0.318153</td>\n",
       "      <td>15.225970</td>\n",
       "    </tr>\n",
       "    <tr>\n",
       "      <td>std</td>\n",
       "      <td>1.276428</td>\n",
       "      <td>2.369551</td>\n",
       "      <td>0.032496</td>\n",
       "      <td>1.401843</td>\n",
       "      <td>10.033457</td>\n",
       "      <td>5.509783</td>\n",
       "      <td>0.279604</td>\n",
       "      <td>9.992113</td>\n",
       "      <td>5.498756</td>\n",
       "      <td>0.361798</td>\n",
       "      <td>12.803014</td>\n",
       "    </tr>\n",
       "    <tr>\n",
       "      <td>min</td>\n",
       "      <td>0.000000</td>\n",
       "      <td>0.000000</td>\n",
       "      <td>-0.500000</td>\n",
       "      <td>0.000000</td>\n",
       "      <td>-81.169787</td>\n",
       "      <td>0.000000</td>\n",
       "      <td>0.000000</td>\n",
       "      <td>-74.436935</td>\n",
       "      <td>0.000000</td>\n",
       "      <td>-0.500000</td>\n",
       "      <td>0.000000</td>\n",
       "    </tr>\n",
       "    <tr>\n",
       "      <td>25%</td>\n",
       "      <td>0.000000</td>\n",
       "      <td>0.000000</td>\n",
       "      <td>0.500000</td>\n",
       "      <td>1.000000</td>\n",
       "      <td>-73.991988</td>\n",
       "      <td>40.735111</td>\n",
       "      <td>1.000000</td>\n",
       "      <td>-73.991470</td>\n",
       "      <td>40.733639</td>\n",
       "      <td>0.000000</td>\n",
       "      <td>8.150000</td>\n",
       "    </tr>\n",
       "    <tr>\n",
       "      <td>50%</td>\n",
       "      <td>0.000000</td>\n",
       "      <td>1.000000</td>\n",
       "      <td>0.500000</td>\n",
       "      <td>1.000000</td>\n",
       "      <td>-73.981738</td>\n",
       "      <td>40.752667</td>\n",
       "      <td>1.000000</td>\n",
       "      <td>-73.980077</td>\n",
       "      <td>40.752892</td>\n",
       "      <td>0.000000</td>\n",
       "      <td>11.400000</td>\n",
       "    </tr>\n",
       "    <tr>\n",
       "      <td>75%</td>\n",
       "      <td>0.000000</td>\n",
       "      <td>2.100000</td>\n",
       "      <td>0.500000</td>\n",
       "      <td>2.000000</td>\n",
       "      <td>-73.967010</td>\n",
       "      <td>40.767118</td>\n",
       "      <td>1.000000</td>\n",
       "      <td>-73.962918</td>\n",
       "      <td>40.768220</td>\n",
       "      <td>0.500000</td>\n",
       "      <td>17.000000</td>\n",
       "    </tr>\n",
       "    <tr>\n",
       "      <td>max</td>\n",
       "      <td>23.500000</td>\n",
       "      <td>98.550000</td>\n",
       "      <td>0.500000</td>\n",
       "      <td>6.000000</td>\n",
       "      <td>0.000000</td>\n",
       "      <td>50.514841</td>\n",
       "      <td>6.000000</td>\n",
       "      <td>0.000000</td>\n",
       "      <td>41.465904</td>\n",
       "      <td>2.500000</td>\n",
       "      <td>480.000000</td>\n",
       "    </tr>\n",
       "  </tbody>\n",
       "</table>\n",
       "</div>"
      ],
      "text/plain": [
       "       tolls_amount    tip_amount       mta_tax  passenger_count  \\\n",
       "count  87958.000000  79150.000000  87958.000000     87958.000000   \n",
       "mean       0.271402      1.532579      0.497948         1.734908   \n",
       "std        1.276428      2.369551      0.032496         1.401843   \n",
       "min        0.000000      0.000000     -0.500000         0.000000   \n",
       "25%        0.000000      0.000000      0.500000         1.000000   \n",
       "50%        0.000000      1.000000      0.500000         1.000000   \n",
       "75%        0.000000      2.100000      0.500000         2.000000   \n",
       "max       23.500000     98.550000      0.500000         6.000000   \n",
       "\n",
       "       pickup_longitude  pickup_latitude     rate_code  dropoff_longitude  \\\n",
       "count      85346.000000     86168.000000  87958.000000       87679.000000   \n",
       "mean         -72.588214        39.991795      1.035312         -72.599128   \n",
       "std           10.033457         5.509783      0.279604           9.992113   \n",
       "min          -81.169787         0.000000      0.000000         -74.436935   \n",
       "25%          -73.991988        40.735111      1.000000         -73.991470   \n",
       "50%          -73.981738        40.752667      1.000000         -73.980077   \n",
       "75%          -73.967010        40.767118      1.000000         -73.962918   \n",
       "max            0.000000        50.514841      6.000000           0.000000   \n",
       "\n",
       "       dropoff_latitude     surcharge   fare_amount  \n",
       "count      87544.000000  82693.000000  87958.000000  \n",
       "mean          39.995261      0.318153     15.225970  \n",
       "std            5.498756      0.361798     12.803014  \n",
       "min            0.000000     -0.500000      0.000000  \n",
       "25%           40.733639      0.000000      8.150000  \n",
       "50%           40.752892      0.000000     11.400000  \n",
       "75%           40.768220      0.500000     17.000000  \n",
       "max           41.465904      2.500000    480.000000  "
      ]
     },
     "execution_count": 5,
     "metadata": {},
     "output_type": "execute_result"
    }
   ],
   "source": [
    "data.describe()"
   ]
  },
  {
   "cell_type": "code",
   "execution_count": 6,
   "metadata": {},
   "outputs": [
    {
     "data": {
      "text/plain": [
       "TID                       0\n",
       "vendor_id                 0\n",
       "new_user                  1\n",
       "tolls_amount              0\n",
       "tip_amount             8808\n",
       "mta_tax                   0\n",
       "pickup_datetime           0\n",
       "dropoff_datetime          0\n",
       "passenger_count           0\n",
       "pickup_longitude       2612\n",
       "pickup_latitude        1790\n",
       "rate_code                 0\n",
       "store_and_fwd_flag    41723\n",
       "dropoff_longitude       279\n",
       "dropoff_latitude        414\n",
       "payment_type              0\n",
       "surcharge              5265\n",
       "fare_amount               0\n",
       "dtype: int64"
      ]
     },
     "execution_count": 6,
     "metadata": {},
     "output_type": "execute_result"
    }
   ],
   "source": [
    "#checking NA's \n",
    "data.isna().sum()"
   ]
  },
  {
   "cell_type": "code",
   "execution_count": 7,
   "metadata": {},
   "outputs": [],
   "source": [
    "# removing rows where fare_amount is 0 as those rows cannot help us to predict the target(fare_amount)\n",
    "data=data.loc[data.fare_amount>0,]"
   ]
  },
  {
   "cell_type": "code",
   "execution_count": 8,
   "metadata": {},
   "outputs": [
    {
     "data": {
      "text/plain": [
       "1    61210\n",
       "2    12342\n",
       "5     5330\n",
       "6     3696\n",
       "3     3597\n",
       "4     1769\n",
       "0        7\n",
       "Name: passenger_count, dtype: int64"
      ]
     },
     "execution_count": 8,
     "metadata": {},
     "output_type": "execute_result"
    }
   ],
   "source": [
    "data['passenger_count'].value_counts()"
   ]
  },
  {
   "cell_type": "code",
   "execution_count": 9,
   "metadata": {},
   "outputs": [],
   "source": [
    "#removing rows where passenger_count is zero\n",
    "data=data[data[\"passenger_count\"]>0]"
   ]
  },
  {
   "cell_type": "code",
   "execution_count": 10,
   "metadata": {},
   "outputs": [],
   "source": [
    "#droping NA's from pickup_longitute,pickup_latitide,dropoff_latittue,dropff_longitute columns\n",
    "data.dropna(subset = ['pickup_longitude', 'pickup_latitude', 'dropoff_latitude', 'dropoff_longitude'], inplace= True)"
   ]
  },
  {
   "cell_type": "code",
   "execution_count": 11,
   "metadata": {},
   "outputs": [],
   "source": [
    "#converting pickup_datetime,dropoff_datetime into datetime\n",
    "data[\"pickup_datetime\"]=pd.to_datetime(data[\"pickup_datetime\"])\n",
    "data[\"dropoff_datetime\"]=pd.to_datetime(data[\"dropoff_datetime\"])\n",
    "\n",
    "#adding  new variables called \"duration\",'hour','day','month','year' \n",
    "data['duration']=abs(data['pickup_datetime']-data['dropoff_datetime'])/np.timedelta64(1,'m')\n",
    "\n",
    "data['hour'] = data.pickup_datetime.dt.hour\n",
    "data['day'] = data.pickup_datetime.dt.day\n",
    "data['month'] = data.pickup_datetime.dt.month\n",
    "data['year'] = data.pickup_datetime.dt.year"
   ]
  },
  {
   "cell_type": "code",
   "execution_count": 12,
   "metadata": {},
   "outputs": [],
   "source": [
    "#creating a list of unwanted features\n",
    "cols_drop=['TID','pickup_datetime','dropoff_datetime','new_user','store_and_fwd_flag']"
   ]
  },
  {
   "cell_type": "code",
   "execution_count": 13,
   "metadata": {},
   "outputs": [],
   "source": [
    "#droping the unwanted features\n",
    "data.drop(cols_drop,axis=1,inplace=True)"
   ]
  },
  {
   "cell_type": "code",
   "execution_count": 14,
   "metadata": {},
   "outputs": [],
   "source": [
    "#addind a new feature called \"distance\",which is extracted from latitudes and langitudes.\n",
    "def distance(s_lat, s_lng, e_lat, e_lng):\n",
    "    \n",
    "    # approximate radius of earth in km\n",
    "    R = 6373.0\n",
    "    \n",
    "    s_lat = s_lat*np.pi/180.0                      \n",
    "    s_lng = np.deg2rad(s_lng)     \n",
    "    e_lat = np.deg2rad(e_lat)                       \n",
    "    e_lng = np.deg2rad(e_lng)  \n",
    "    \n",
    "    d = np.sin((e_lat - s_lat)/2)**2 + np.cos(s_lat)*np.cos(e_lat) * np.sin((e_lng - s_lng)/2)**2\n",
    "    \n",
    "    return 2 * R * np.arcsin(np.sqrt(d)) \n",
    "#adding distance column to the dataset \n",
    "data['distance'] = distance(data.pickup_latitude,data.pickup_longitude,data.dropoff_latitude,data.dropoff_longitude)"
   ]
  },
  {
   "cell_type": "code",
   "execution_count": 15,
   "metadata": {},
   "outputs": [
    {
     "data": {
      "text/plain": [
       "<matplotlib.axes._subplots.AxesSubplot at 0x7f45d8bc5b38>"
      ]
     },
     "execution_count": 15,
     "metadata": {},
     "output_type": "execute_result"
    },
    {
     "data": {
      "image/png": "[encoded data removed]",
      "text/plain": [
       "<Figure size 720x576 with 2 Axes>"
      ]
     },
     "metadata": {
      "needs_background": "light"
     },
     "output_type": "display_data"
    }
   ],
   "source": [
    "corr=data.corr()\n",
    "plt.figure(figsize=(10,8))\n",
    "sns.heatmap(corr,annot=True,)"
   ]
  },
  {
   "cell_type": "code",
   "execution_count": 16,
   "metadata": {},
   "outputs": [
    {
     "data": {
      "text/plain": [
       "Text(0.5, 1.0, 'distribution of fare_amount')"
      ]
     },
     "execution_count": 16,
     "metadata": {},
     "output_type": "execute_result"
    },
    {
     "data": {
      "image/png": "[encoded data removed]",
      "text/plain": [
       "<Figure size 432x288 with 1 Axes>"
      ]
     },
     "metadata": {
      "needs_background": "light"
     },
     "output_type": "display_data"
    }
   ],
   "source": [
    "sns.distplot(data.loc[data.fare_amount<200,'fare_amount'])\n",
    "plt.xlabel(\"fare_amount\")\n",
    "plt.ylabel(\"Frequency\")\n",
    "plt.title(\"distribution of fare_amount\")"
   ]
  },
  {
   "cell_type": "code",
   "execution_count": 17,
   "metadata": {},
   "outputs": [
    {
     "data": {
      "text/plain": [
       "Text(0, 0.5, 'Frequency')"
      ]
     },
     "execution_count": 17,
     "metadata": {},
     "output_type": "execute_result"
    },
    {
     "data": {
      "image/png": "[encoded data removed]",
      "text/plain": [
       "<Figure size 432x288 with 1 Axes>"
      ]
     },
     "metadata": {
      "needs_background": "light"
     },
     "output_type": "display_data"
    }
   ],
   "source": [
    "sns.distplot(data.loc[data.distance<200,'distance'])\n",
    "plt.title(\"distrtibution of distance travelled\")\n",
    "plt.ylabel(\"Frequency\")"
   ]
  },
  {
   "cell_type": "code",
   "execution_count": 18,
   "metadata": {},
   "outputs": [
    {
     "data": {
      "text/plain": [
       "Text(0.5, 1.0, 'passenger count vs fare')"
      ]
     },
     "execution_count": 18,
     "metadata": {},
     "output_type": "execute_result"
    },
    {
     "data": {
      "image/png": "[encoded data removed]",
      "text/plain": [
       "<Figure size 432x288 with 1 Axes>"
      ]
     },
     "metadata": {
      "needs_background": "light"
     },
     "output_type": "display_data"
    }
   ],
   "source": [
    "sns.boxplot(x='passenger_count',y='fare_amount',data=data)\n",
    "plt.ylim(0,40)\n",
    "plt.title('passenger count vs fare')"
   ]
  },
  {
   "cell_type": "code",
   "execution_count": 19,
   "metadata": {},
   "outputs": [
    {
     "data": {
      "text/plain": [
       "Text(0.5, 1.0, 'distance vs fare amount')"
      ]
     },
     "execution_count": 19,
     "metadata": {},
     "output_type": "execute_result"
    },
    {
     "data": {
      "image/png": "[encoded data removed]",
      "text/plain": [
       "<Figure size 432x288 with 1 Axes>"
      ]
     },
     "metadata": {
      "needs_background": "light"
     },
     "output_type": "display_data"
    }
   ],
   "source": [
    "plt.scatter(x='distance',y='fare_amount',data=data)\n",
    "plt.ylim(0,70)\n",
    "plt.xlim(0,80)\n",
    "plt.xlabel('distance')\n",
    "plt.ylabel('fare amount')\n",
    "plt.title('distance vs fare amount')"
   ]
  },
  {
   "cell_type": "code",
   "execution_count": 20,
   "metadata": {},
   "outputs": [
    {
     "data": {
      "text/plain": [
       "Text(0.5, 1.0, 'duratoin vs fare amount')"
      ]
     },
     "execution_count": 20,
     "metadata": {},
     "output_type": "execute_result"
    },
    {
     "data": {
      "image/png": "[encoded data removed]",
      "text/plain": [
       "<Figure size 432x288 with 1 Axes>"
      ]
     },
     "metadata": {
      "needs_background": "light"
     },
     "output_type": "display_data"
    }
   ],
   "source": [
    "plt.scatter(x='duration',y='fare_amount',data=data)\n",
    "plt.ylim(0,70)\n",
    "plt.xlim(0,200)\n",
    "plt.xlabel('duration in minutes')\n",
    "plt.ylabel('fare_amount')\n",
    "plt.title('duratoin vs fare amount')"
   ]
  },
  {
   "cell_type": "code",
   "execution_count": 21,
   "metadata": {},
   "outputs": [
    {
     "data": {
      "text/plain": [
       "Text(0.5, 1.0, 'passenger count vs fare')"
      ]
     },
     "execution_count": 21,
     "metadata": {},
     "output_type": "execute_result"
    },
    {
     "data": {
      "image/png": "[encoded data removed]",
      "text/plain": [
       "<Figure size 432x288 with 1 Axes>"
      ]
     },
     "metadata": {
      "needs_background": "light"
     },
     "output_type": "display_data"
    }
   ],
   "source": [
    "sns.boxplot(x='passenger_count',y='distance',data=data)\n",
    "plt.ylim(0,10)\n",
    "plt.title('passenger count vs fare')"
   ]
  },
  {
   "cell_type": "code",
   "execution_count": 22,
   "metadata": {},
   "outputs": [],
   "source": [
    "#splitting the data into train,validation\n",
    "y=data.fare_amount\n",
    "X=data\n",
    "X.drop('fare_amount',axis=1,inplace=True)"
   ]
  },
  {
   "cell_type": "code",
   "execution_count": 23,
   "metadata": {},
   "outputs": [
    {
     "name": "stdout",
     "output_type": "stream",
     "text": [
      "(58057, 18)\n",
      "(24883, 18)\n",
      "(58057,)\n",
      "(24883,)\n"
     ]
    }
   ],
   "source": [
    "train_X,valid_X,train_y,valid_y=train_test_split(X,y,train_size=0.7,random_state=1)\n",
    "print(train_X.shape)\n",
    "print(valid_X.shape)\n",
    "print(train_y.shape)\n",
    "print(valid_y.shape)"
   ]
  },
  {
   "cell_type": "code",
   "execution_count": 24,
   "metadata": {},
   "outputs": [
    {
     "data": {
      "text/plain": [
       "Index(['day', 'distance', 'dropoff_latitude', 'dropoff_longitude', 'duration',\n",
       "       'hour', 'month', 'mta_tax', 'passenger_count', 'pickup_latitude',\n",
       "       'pickup_longitude', 'rate_code', 'surcharge', 'tip_amount',\n",
       "       'tolls_amount', 'year'],\n",
       "      dtype='object')"
      ]
     },
     "execution_count": 24,
     "metadata": {},
     "output_type": "execute_result"
    }
   ],
   "source": [
    "#creating lists fro categorical and numeric columns\n",
    "cat_cols = [\"vendor_id\",\"payment_type\"]\n",
    "num_cols = train_X.columns.difference(cat_cols)\n",
    "num_cols"
   ]
  },
  {
   "cell_type": "code",
   "execution_count": 25,
   "metadata": {},
   "outputs": [
    {
     "name": "stderr",
     "output_type": "stream",
     "text": [
      "/opt/conda/lib/python3.6/site-packages/pandas/core/frame.py:3494: SettingWithCopyWarning: \n",
      "A value is trying to be set on a copy of a slice from a DataFrame.\n",
      "Try using .loc[row_indexer,col_indexer] = value instead\n",
      "\n",
      "See the caveats in the documentation: http://pandas.pydata.org/pandas-docs/stable/user_guide/indexing.html#returning-a-view-versus-a-copy\n",
      "  self[k1] = value[k2]\n"
     ]
    }
   ],
   "source": [
    "#converting the datatypes \n",
    "train_X[cat_cols]=train_X[cat_cols].apply(lambda x:x.astype(\"category\"))\n",
    "train_X[num_cols]=train_X[num_cols].apply(lambda x:x.astype(\"float\"))\n",
    "\n"
   ]
  },
  {
   "cell_type": "code",
   "execution_count": 26,
   "metadata": {},
   "outputs": [],
   "source": [
    "train_num_data = train_X.loc[:,num_cols]\n",
    "train_cat_data = train_X.loc[:,cat_cols]"
   ]
  },
  {
   "cell_type": "code",
   "execution_count": 27,
   "metadata": {},
   "outputs": [],
   "source": [
    "# numeric cols imputation\n",
    "imp_num = SimpleImputer(missing_values=np.nan, strategy='mean')\n",
    "imp_num.fit(train_num_data)\n",
    "train_num_data = pd.DataFrame(imp_num.transform(train_num_data),columns=num_cols)\n",
    "\n",
    "# Categorical columns imputation\n",
    "imp_cat = SimpleImputer(missing_values=np.nan, strategy='most_frequent')\n",
    "\n",
    "train_cat_data = pd.DataFrame(imp_cat.fit_transform(train_cat_data),columns=cat_cols)"
   ]
  },
  {
   "cell_type": "code",
   "execution_count": 28,
   "metadata": {},
   "outputs": [],
   "source": [
    "#standardizing the train data\n",
    "stand=StandardScaler()\n",
    "stand.fit(train_num_data[train_num_data.columns])\n",
    "train_num_data[train_num_data.columns]=stand.transform(train_num_data[train_num_data.columns])"
   ]
  },
  {
   "cell_type": "code",
   "execution_count": 29,
   "metadata": {},
   "outputs": [],
   "source": [
    "train_X=pd.concat([train_num_data,train_cat_data],axis=1)"
   ]
  },
  {
   "cell_type": "code",
   "execution_count": 30,
   "metadata": {},
   "outputs": [],
   "source": [
    "#creating dummies for categorical columns\n",
    "train_X=pd.get_dummies(train_X,columns=cat_cols)"
   ]
  },
  {
   "cell_type": "code",
   "execution_count": 31,
   "metadata": {},
   "outputs": [
    {
     "data": {
      "text/html": [
       "<div>\n",
       "<style scoped>\n",
       "    .dataframe tbody tr th:only-of-type {\n",
       "        vertical-align: middle;\n",
       "    }\n",
       "\n",
       "    .dataframe tbody tr th {\n",
       "        vertical-align: top;\n",
       "    }\n",
       "\n",
       "    .dataframe thead th {\n",
       "        text-align: right;\n",
       "    }\n",
       "</style>\n",
       "<table border=\"1\" class=\"dataframe\">\n",
       "  <thead>\n",
       "    <tr style=\"text-align: right;\">\n",
       "      <th></th>\n",
       "      <th>day</th>\n",
       "      <th>distance</th>\n",
       "      <th>dropoff_latitude</th>\n",
       "      <th>dropoff_longitude</th>\n",
       "      <th>duration</th>\n",
       "      <th>hour</th>\n",
       "      <th>month</th>\n",
       "      <th>mta_tax</th>\n",
       "      <th>passenger_count</th>\n",
       "      <th>pickup_latitude</th>\n",
       "      <th>...</th>\n",
       "      <th>year</th>\n",
       "      <th>vendor_id_DST000401</th>\n",
       "      <th>vendor_id_DST000481</th>\n",
       "      <th>vendor_id_DST000532</th>\n",
       "      <th>vendor_id_DST000543</th>\n",
       "      <th>payment_type_CRD</th>\n",
       "      <th>payment_type_CSH</th>\n",
       "      <th>payment_type_DIS</th>\n",
       "      <th>payment_type_NOC</th>\n",
       "      <th>payment_type_UNK</th>\n",
       "    </tr>\n",
       "  </thead>\n",
       "  <tbody>\n",
       "    <tr>\n",
       "      <td>0</td>\n",
       "      <td>1.364261</td>\n",
       "      <td>-0.064593</td>\n",
       "      <td>0.139404</td>\n",
       "      <td>-0.139270</td>\n",
       "      <td>-0.321807</td>\n",
       "      <td>-2.078341</td>\n",
       "      <td>-0.968966</td>\n",
       "      <td>0.062375</td>\n",
       "      <td>-0.524610</td>\n",
       "      <td>0.141867</td>\n",
       "      <td>...</td>\n",
       "      <td>2.225199</td>\n",
       "      <td>0</td>\n",
       "      <td>0</td>\n",
       "      <td>0</td>\n",
       "      <td>1</td>\n",
       "      <td>1</td>\n",
       "      <td>0</td>\n",
       "      <td>0</td>\n",
       "      <td>0</td>\n",
       "      <td>0</td>\n",
       "    </tr>\n",
       "    <tr>\n",
       "      <td>1</td>\n",
       "      <td>-0.944738</td>\n",
       "      <td>-0.028549</td>\n",
       "      <td>0.119022</td>\n",
       "      <td>-0.119615</td>\n",
       "      <td>1.820454</td>\n",
       "      <td>0.225388</td>\n",
       "      <td>-0.968966</td>\n",
       "      <td>0.062375</td>\n",
       "      <td>-0.524610</td>\n",
       "      <td>0.136097</td>\n",
       "      <td>...</td>\n",
       "      <td>2.225199</td>\n",
       "      <td>0</td>\n",
       "      <td>0</td>\n",
       "      <td>0</td>\n",
       "      <td>1</td>\n",
       "      <td>1</td>\n",
       "      <td>0</td>\n",
       "      <td>0</td>\n",
       "      <td>0</td>\n",
       "      <td>0</td>\n",
       "    </tr>\n",
       "    <tr>\n",
       "      <td>2</td>\n",
       "      <td>-1.752887</td>\n",
       "      <td>-0.062430</td>\n",
       "      <td>0.143223</td>\n",
       "      <td>-0.138235</td>\n",
       "      <td>-0.063555</td>\n",
       "      <td>0.839716</td>\n",
       "      <td>1.220338</td>\n",
       "      <td>0.062375</td>\n",
       "      <td>-0.524610</td>\n",
       "      <td>0.140484</td>\n",
       "      <td>...</td>\n",
       "      <td>-0.449398</td>\n",
       "      <td>0</td>\n",
       "      <td>0</td>\n",
       "      <td>1</td>\n",
       "      <td>0</td>\n",
       "      <td>1</td>\n",
       "      <td>0</td>\n",
       "      <td>0</td>\n",
       "      <td>0</td>\n",
       "      <td>0</td>\n",
       "    </tr>\n",
       "    <tr>\n",
       "      <td>3</td>\n",
       "      <td>1.364261</td>\n",
       "      <td>-0.053525</td>\n",
       "      <td>0.136150</td>\n",
       "      <td>-0.131080</td>\n",
       "      <td>-0.022344</td>\n",
       "      <td>0.839716</td>\n",
       "      <td>-0.968966</td>\n",
       "      <td>0.062375</td>\n",
       "      <td>0.187708</td>\n",
       "      <td>0.136851</td>\n",
       "      <td>...</td>\n",
       "      <td>-0.449398</td>\n",
       "      <td>0</td>\n",
       "      <td>0</td>\n",
       "      <td>1</td>\n",
       "      <td>0</td>\n",
       "      <td>0</td>\n",
       "      <td>1</td>\n",
       "      <td>0</td>\n",
       "      <td>0</td>\n",
       "      <td>0</td>\n",
       "    </tr>\n",
       "    <tr>\n",
       "      <td>4</td>\n",
       "      <td>1.248811</td>\n",
       "      <td>-0.058778</td>\n",
       "      <td>0.138694</td>\n",
       "      <td>-0.139273</td>\n",
       "      <td>0.060077</td>\n",
       "      <td>0.839716</td>\n",
       "      <td>-0.968966</td>\n",
       "      <td>0.062375</td>\n",
       "      <td>0.187708</td>\n",
       "      <td>0.143178</td>\n",
       "      <td>...</td>\n",
       "      <td>-0.449398</td>\n",
       "      <td>0</td>\n",
       "      <td>0</td>\n",
       "      <td>1</td>\n",
       "      <td>0</td>\n",
       "      <td>0</td>\n",
       "      <td>1</td>\n",
       "      <td>0</td>\n",
       "      <td>0</td>\n",
       "      <td>0</td>\n",
       "    </tr>\n",
       "  </tbody>\n",
       "</table>\n",
       "<p>5 rows × 25 columns</p>\n",
       "</div>"
      ],
      "text/plain": [
       "        day  distance  dropoff_latitude  dropoff_longitude  duration  \\\n",
       "0  1.364261 -0.064593          0.139404          -0.139270 -0.321807   \n",
       "1 -0.944738 -0.028549          0.119022          -0.119615  1.820454   \n",
       "2 -1.752887 -0.062430          0.143223          -0.138235 -0.063555   \n",
       "3  1.364261 -0.053525          0.136150          -0.131080 -0.022344   \n",
       "4  1.248811 -0.058778          0.138694          -0.139273  0.060077   \n",
       "\n",
       "       hour     month   mta_tax  passenger_count  pickup_latitude  ...  \\\n",
       "0 -2.078341 -0.968966  0.062375        -0.524610         0.141867  ...   \n",
       "1  0.225388 -0.968966  0.062375        -0.524610         0.136097  ...   \n",
       "2  0.839716  1.220338  0.062375        -0.524610         0.140484  ...   \n",
       "3  0.839716 -0.968966  0.062375         0.187708         0.136851  ...   \n",
       "4  0.839716 -0.968966  0.062375         0.187708         0.143178  ...   \n",
       "\n",
       "       year  vendor_id_DST000401  vendor_id_DST000481  vendor_id_DST000532  \\\n",
       "0  2.225199                    0                    0                    0   \n",
       "1  2.225199                    0                    0                    0   \n",
       "2 -0.449398                    0                    0                    1   \n",
       "3 -0.449398                    0                    0                    1   \n",
       "4 -0.449398                    0                    0                    1   \n",
       "\n",
       "   vendor_id_DST000543  payment_type_CRD  payment_type_CSH  payment_type_DIS  \\\n",
       "0                    1                 1                 0                 0   \n",
       "1                    1                 1                 0                 0   \n",
       "2                    0                 1                 0                 0   \n",
       "3                    0                 0                 1                 0   \n",
       "4                    0                 0                 1                 0   \n",
       "\n",
       "   payment_type_NOC  payment_type_UNK  \n",
       "0                 0                 0  \n",
       "1                 0                 0  \n",
       "2                 0                 0  \n",
       "3                 0                 0  \n",
       "4                 0                 0  \n",
       "\n",
       "[5 rows x 25 columns]"
      ]
     },
     "execution_count": 31,
     "metadata": {},
     "output_type": "execute_result"
    }
   ],
   "source": [
    "train_X.head()"
   ]
  },
  {
   "cell_type": "code",
   "execution_count": 32,
   "metadata": {},
   "outputs": [
    {
     "name": "stderr",
     "output_type": "stream",
     "text": [
      "/opt/conda/lib/python3.6/site-packages/pandas/core/frame.py:3494: SettingWithCopyWarning: \n",
      "A value is trying to be set on a copy of a slice from a DataFrame.\n",
      "Try using .loc[row_indexer,col_indexer] = value instead\n",
      "\n",
      "See the caveats in the documentation: http://pandas.pydata.org/pandas-docs/stable/user_guide/indexing.html#returning-a-view-versus-a-copy\n",
      "  self[k1] = value[k2]\n"
     ]
    }
   ],
   "source": [
    "# preprocessing on validation set\n",
    "valid_X[cat_cols]=valid_X[cat_cols].apply(lambda x:x.astype(\"category\"))\n",
    "valid_X[num_cols]=valid_X[num_cols].apply(lambda x:x.astype(\"float\"))\n",
    "valid_num_data = valid_X.loc[:,num_cols]\n",
    "valid_cat_data = valid_X.loc[:,cat_cols]\n",
    "\n",
    "# numeric cols imputation\n",
    "\n",
    "valid_num_data = pd.DataFrame(imp_num.transform(valid_num_data),columns=num_cols)\n",
    "\n",
    "# Categorical columns imputation\n",
    "\n",
    "\n",
    "valid_cat_data = pd.DataFrame(imp_cat.transform(valid_cat_data),columns=cat_cols)"
   ]
  },
  {
   "cell_type": "code",
   "execution_count": 33,
   "metadata": {},
   "outputs": [],
   "source": [
    "#standarding the valdiation data\n",
    "valid_num_data[valid_num_data.columns]=stand.transform(valid_num_data[valid_num_data.columns])"
   ]
  },
  {
   "cell_type": "code",
   "execution_count": 34,
   "metadata": {},
   "outputs": [],
   "source": [
    "valid_X=pd.concat([valid_num_data,valid_cat_data],axis=1)\n",
    "\n",
    "valid_X=pd.get_dummies(valid_X,columns=cat_cols)"
   ]
  },
  {
   "cell_type": "code",
   "execution_count": 35,
   "metadata": {},
   "outputs": [
    {
     "name": "stderr",
     "output_type": "stream",
     "text": [
      "/opt/conda/lib/python3.6/site-packages/pandas/core/series.py:853: RuntimeWarning: invalid value encountered in arcsin\n",
      "  result = getattr(ufunc, method)(*inputs, **kwargs)\n"
     ]
    }
   ],
   "source": [
    "#preprocessing on test data\n",
    "#converting pickup_datetime,dropoff_datetime into datetime\n",
    "test[\"pickup_datetime\"]=pd.to_datetime(test[\"pickup_datetime\"])\n",
    "test[\"dropoff_datetime\"]=pd.to_datetime(test[\"dropoff_datetime\"])\n",
    "\n",
    "#adding a new variable called \"duration\" \n",
    "test['duration']=abs(test['pickup_datetime']-test['dropoff_datetime'])/np.timedelta64(1,'m')\n",
    "\n",
    "test['hour'] = test.pickup_datetime.dt.hour\n",
    "test['day'] = test.pickup_datetime.dt.day\n",
    "test['month'] = test.pickup_datetime.dt.month\n",
    "test['year'] = test.pickup_datetime.dt.year\n",
    "\n",
    "#droping unwanted columns\n",
    "cols_drop=['TID','pickup_datetime','dropoff_datetime','new_user','store_and_fwd_flag']\n",
    "test.drop(cols_drop,axis=1,inplace=True)\n",
    "\n",
    "def distance(s_lat, s_lng, e_lat, e_lng):\n",
    "    \n",
    "    # approximate radius of earth in km\n",
    "    R = 6373.0\n",
    "    \n",
    "    s_lat = s_lat*np.pi/180.0                      \n",
    "    s_lng = np.deg2rad(s_lng)     \n",
    "    e_lat = np.deg2rad(e_lat)                       \n",
    "    e_lng = np.deg2rad(e_lng)  \n",
    "    \n",
    "    d = np.sin((e_lat - s_lat)/2)**2 + np.cos(s_lat)*np.cos(e_lat) * np.sin((e_lng - s_lng)/2)**2\n",
    "    \n",
    "    return 2 * R * np.arcsin(np.sqrt(d)) \n",
    "test['distance'] = distance(test.pickup_latitude,test.pickup_longitude,test.dropoff_latitude,test.dropoff_longitude)"
   ]
  },
  {
   "cell_type": "code",
   "execution_count": 36,
   "metadata": {},
   "outputs": [],
   "source": [
    "# preprocessing on test set\n",
    "test[cat_cols]=test[cat_cols].apply(lambda x:x.astype(\"category\"))\n",
    "test[num_cols]=test[num_cols].apply(lambda x:x.astype(\"float\"))"
   ]
  },
  {
   "cell_type": "code",
   "execution_count": 37,
   "metadata": {},
   "outputs": [],
   "source": [
    "test_num_data=test.loc[:,num_cols]\n",
    "test_cat_data=test.loc[:,cat_cols]\n",
    "# numeric cols imputation\n",
    "\n",
    "test_num_data = pd.DataFrame(imp_num.transform(test_num_data),columns=num_cols)\n",
    "\n",
    "# Categorical columns imputation\n",
    "\n",
    "\n",
    "test_cat_data = pd.DataFrame(imp_cat.transform(test_cat_data),columns=cat_cols)"
   ]
  },
  {
   "cell_type": "code",
   "execution_count": 38,
   "metadata": {},
   "outputs": [],
   "source": [
    "#standarding the test data\n",
    "test_num_data[test_num_data.columns]=stand.transform(test_num_data[test_num_data.columns])"
   ]
  },
  {
   "cell_type": "code",
   "execution_count": 39,
   "metadata": {},
   "outputs": [],
   "source": [
    "test=pd.concat([test_num_data,test_cat_data],axis=1)\n",
    "\n",
    "test=pd.get_dummies(test,columns=cat_cols)"
   ]
  },
  {
   "cell_type": "code",
   "execution_count": 40,
   "metadata": {},
   "outputs": [],
   "source": [
    "# MODEL1 LINEAR REGRESSION\n",
    "from sklearn.linear_model import LinearRegression\n",
    "from sklearn.metrics import mean_squared_error,mean_absolute_error\n",
    "lir=LinearRegression()\n",
    "lir.fit(train_X,train_y)\n",
    "\n",
    "train_preds1=lir.predict(train_X)\n",
    "valid_preds1=lir.predict(valid_X)"
   ]
  },
  {
   "cell_type": "code",
   "execution_count": 41,
   "metadata": {},
   "outputs": [
    {
     "name": "stdout",
     "output_type": "stream",
     "text": [
      "mean_absolute_error on train data: 4.159776273931275\n",
      "mean_absolute_error on validation data: 4.2118743782112045\n"
     ]
    }
   ],
   "source": [
    "# MODEL1 PREDICTIONS\n",
    "print(\"mean_absolute_error on train data:\",mean_absolute_error(train_y,train_preds1))\n",
    "print(\"mean_absolute_error on validation data:\",mean_absolute_error(valid_y,valid_preds1))"
   ]
  },
  {
   "cell_type": "code",
   "execution_count": 42,
   "metadata": {},
   "outputs": [
    {
     "name": "stdout",
     "output_type": "stream",
     "text": [
      "mean_absolute_error on train data: 1.014244772896792e-15\n",
      "mean_absolute_error on validation data: 1.1888912108668577\n"
     ]
    }
   ],
   "source": [
    "# MODEL2 DECISION TREE REGRESSOR \n",
    "from sklearn.tree import DecisionTreeRegressor\n",
    "from sklearn.model_selection import RandomizedSearchCV\n",
    "\n",
    "dtc=DecisionTreeRegressor()\n",
    "dtc.fit(train_X,train_y)\n",
    "\n",
    "train_preds2=dtc.predict(train_X)\n",
    "valid_preds2=dtc.predict(valid_X)\n",
    "\n",
    "print(\"mean_absolute_error on train data:\",mean_absolute_error(train_y,train_preds2))\n",
    "print(\"mean_absolute_error on validation data:\",mean_absolute_error(valid_y,valid_preds2))"
   ]
  },
  {
   "cell_type": "code",
   "execution_count": 43,
   "metadata": {},
   "outputs": [
    {
     "name": "stdout",
     "output_type": "stream",
     "text": [
      "mean_absolute_error on train data: 1.4405320085417943e-07\n",
      "mean_absolute_error on validation data: 2.5180096548114603\n"
     ]
    }
   ],
   "source": [
    "# MODEL3 KNN REGRESSOR\n",
    "from sklearn.neighbors import KNeighborsRegressor\n",
    "knn=KNeighborsRegressor(n_neighbors=3,algorithm=\"brute\",weights=\"distance\")\n",
    "knn.fit(train_X,train_y)\n",
    "\n",
    "train_preds3=knn.predict(train_X)\n",
    "valid_preds3=knn.predict(valid_X)\n",
    "print(\"mean_absolute_error on train data:\",mean_absolute_error(train_y,train_preds3))\n",
    "print(\"mean_absolute_error on validation data:\",mean_absolute_error(valid_y,valid_preds3))"
   ]
  },
  {
   "cell_type": "code",
   "execution_count": 44,
   "metadata": {},
   "outputs": [
    {
     "name": "stderr",
     "output_type": "stream",
     "text": [
      "/opt/conda/lib/python3.6/site-packages/xgboost/core.py:587: FutureWarning: Series.base is deprecated and will be removed in a future version\n",
      "  if getattr(data, 'base', None) is not None and \\\n"
     ]
    },
    {
     "name": "stdout",
     "output_type": "stream",
     "text": [
      "[12:08:58] WARNING: /workspace/src/objective/regression_obj.cu:152: reg:linear is now deprecated in favor of reg:squarederror.\n",
      "mean_absolute_error on train data: 1.0154131160055173\n",
      "mean_absolute_error on validation data: 1.1102912720505966\n"
     ]
    }
   ],
   "source": [
    "# MODEL 4 XGBOOST\n",
    "from xgboost import XGBRegressor\n",
    "xgb = XGBRegressor()\n",
    "xgb.fit(train_X,train_y)\n",
    "\n",
    "train_pred4=xgb.predict(train_X)\n",
    "valid_pred4=xgb.predict(valid_X)\n",
    "\n",
    "print(\"mean_absolute_error on train data:\",mean_absolute_error(train_y,train_pred4))\n",
    "print(\"mean_absolute_error on validation data:\",mean_absolute_error(valid_y,valid_pred4))"
   ]
  },
  {
   "cell_type": "code",
   "execution_count": 45,
   "metadata": {},
   "outputs": [],
   "source": [
    "#hyperparameters tuning\n",
    "Xgb=XGBRegressor()\n",
    "n_estimaters=[50,100,150,200]\n",
    "max_depth=[2,3,5,7]\n",
    "learnin_rate=[0.05,0.1,0.15,0.20]\n",
    "min_child_wgt=[1,2,3,4]\n",
    "\n",
    "\n",
    "\n",
    "hyperparameter={\n",
    "    \"n_estimaters\":n_estimaters,\n",
    "    \"max_depth\":max_depth,\n",
    "    \"learnin_rate\":learnin_rate,\n",
    "    \"min_child_wgt\":min_child_wgt,\n",
    "\n",
    "}\n",
    "\n",
    "random_cv2=RandomizedSearchCV(estimator=Xgb,param_distributions=hyperparameter,cv=5,n_jobs=-1)"
   ]
  },
  {
   "cell_type": "code",
   "execution_count": 46,
   "metadata": {},
   "outputs": [
    {
     "name": "stderr",
     "output_type": "stream",
     "text": [
      "/opt/conda/lib/python3.6/site-packages/xgboost/core.py:587: FutureWarning: Series.base is deprecated and will be removed in a future version\n",
      "  if getattr(data, 'base', None) is not None and \\\n"
     ]
    },
    {
     "name": "stdout",
     "output_type": "stream",
     "text": [
      "[12:11:05] WARNING: /workspace/src/objective/regression_obj.cu:152: reg:linear is now deprecated in favor of reg:squarederror.\n"
     ]
    },
    {
     "data": {
      "text/plain": [
       "RandomizedSearchCV(cv=5, error_score='raise-deprecating',\n",
       "                   estimator=XGBRegressor(base_score=0.5, booster='gbtree',\n",
       "                                          colsample_bylevel=1,\n",
       "                                          colsample_bynode=1,\n",
       "                                          colsample_bytree=1, gamma=0,\n",
       "                                          importance_type='gain',\n",
       "                                          learning_rate=0.1, max_delta_step=0,\n",
       "                                          max_depth=3, min_child_weight=1,\n",
       "                                          missing=None, n_estimators=100,\n",
       "                                          n_jobs=1, nthread=None,\n",
       "                                          objective='reg:linear',\n",
       "                                          random_st...0,\n",
       "                                          reg_lambda=1, scale_pos_weight=1,\n",
       "                                          seed=None, silent=None, subsample=1,\n",
       "                                          verbosity=1),\n",
       "                   iid='warn', n_iter=10, n_jobs=-1,\n",
       "                   param_distributions={'learnin_rate': [0.05, 0.1, 0.15, 0.2],\n",
       "                                        'max_depth': [2, 3, 5, 7],\n",
       "                                        'min_child_wgt': [1, 2, 3, 4],\n",
       "                                        'n_estimaters': [50, 100, 150, 200]},\n",
       "                   pre_dispatch='2*n_jobs', random_state=None, refit=True,\n",
       "                   return_train_score=False, scoring=None, verbose=0)"
      ]
     },
     "execution_count": 46,
     "metadata": {},
     "output_type": "execute_result"
    }
   ],
   "source": [
    "random_cv2.fit(train_X,train_y)"
   ]
  },
  {
   "cell_type": "code",
   "execution_count": 47,
   "metadata": {},
   "outputs": [
    {
     "data": {
      "text/plain": [
       "XGBRegressor(base_score=0.5, booster='gbtree', colsample_bylevel=1,\n",
       "             colsample_bynode=1, colsample_bytree=1, gamma=0,\n",
       "             importance_type='gain', learnin_rate=0.05, learning_rate=0.1,\n",
       "             max_delta_step=0, max_depth=7, min_child_weight=1, min_child_wgt=3,\n",
       "             missing=None, n_estimaters=150, n_estimators=100, n_jobs=1,\n",
       "             nthread=None, objective='reg:linear', random_state=0, reg_alpha=0,\n",
       "             reg_lambda=1, scale_pos_weight=1, seed=None, silent=None,\n",
       "             subsample=1, verbosity=1)"
      ]
     },
     "execution_count": 47,
     "metadata": {},
     "output_type": "execute_result"
    }
   ],
   "source": [
    "random_cv2.best_estimator_"
   ]
  },
  {
   "cell_type": "code",
   "execution_count": 48,
   "metadata": {},
   "outputs": [
    {
     "name": "stdout",
     "output_type": "stream",
     "text": [
      "[12:11:21] WARNING: /workspace/src/objective/regression_obj.cu:152: reg:linear is now deprecated in favor of reg:squarederror.\n"
     ]
    }
   ],
   "source": [
    "#XGBOOST WITH BEST ESTIMATER\n",
    "Xgb2=XGBRegressor(base_score=0.5, booster='gbtree', colsample_bylevel=1,\n",
    "             colsample_bynode=1, colsample_bytree=1, gamma=0,\n",
    "             importance_type='gain', learnin_rate=0.05, learning_rate=0.1,\n",
    "             max_delta_step=0, max_depth=7, min_child_weight=1, min_child_wgt=2,\n",
    "             missing=None, n_estimaters=50, n_estimators=100, n_jobs=1,\n",
    "             nthread=None, objective='reg:linear', random_state=0, reg_alpha=0,\n",
    "             reg_lambda=1, scale_pos_weight=1, seed=None, silent=None,\n",
    "             subsample=1, verbosity=1)\n",
    "\n",
    "Xgb2.fit(train_X,train_y)\n",
    "\n",
    "\n",
    "train_pred6=Xgb2.predict(train_X)\n",
    "valid_pred6=Xgb2.predict(valid_X)"
   ]
  },
  {
   "cell_type": "code",
   "execution_count": 49,
   "metadata": {},
   "outputs": [
    {
     "name": "stdout",
     "output_type": "stream",
     "text": [
      "mean_absolute_error on train data: 0.6803083550444824\n",
      "mean_absolute_error on validation data: 0.9078420249991243\n"
     ]
    }
   ],
   "source": [
    "print(\"mean_absolute_error on train data:\",mean_absolute_error(train_y,train_pred6))\n",
    "print(\"mean_absolute_error on validation data:\",mean_absolute_error(valid_y,valid_pred6))"
   ]
  },
  {
   "cell_type": "code",
   "execution_count": 50,
   "metadata": {},
   "outputs": [],
   "source": [
    "#prediction on test data with Xgboost best estimator\n",
    "test_predictions=Xgb2.predict(test)\n",
    "test_prediction=pd.DataFrame(test_predictions)"
   ]
  },
  {
   "cell_type": "code",
   "execution_count": 51,
   "metadata": {},
   "outputs": [
    {
     "data": {
      "text/html": [
       "<div>\n",
       "<style scoped>\n",
       "    .dataframe tbody tr th:only-of-type {\n",
       "        vertical-align: middle;\n",
       "    }\n",
       "\n",
       "    .dataframe tbody tr th {\n",
       "        vertical-align: top;\n",
       "    }\n",
       "\n",
       "    .dataframe thead th {\n",
       "        text-align: right;\n",
       "    }\n",
       "</style>\n",
       "<table border=\"1\" class=\"dataframe\">\n",
       "  <thead>\n",
       "    <tr style=\"text-align: right;\">\n",
       "      <th></th>\n",
       "      <th>0</th>\n",
       "    </tr>\n",
       "  </thead>\n",
       "  <tbody>\n",
       "    <tr>\n",
       "      <td>0</td>\n",
       "      <td>13.907768</td>\n",
       "    </tr>\n",
       "    <tr>\n",
       "      <td>1</td>\n",
       "      <td>12.138382</td>\n",
       "    </tr>\n",
       "    <tr>\n",
       "      <td>2</td>\n",
       "      <td>6.834709</td>\n",
       "    </tr>\n",
       "    <tr>\n",
       "      <td>3</td>\n",
       "      <td>31.313587</td>\n",
       "    </tr>\n",
       "    <tr>\n",
       "      <td>4</td>\n",
       "      <td>4.338097</td>\n",
       "    </tr>\n",
       "    <tr>\n",
       "      <td>...</td>\n",
       "      <td>...</td>\n",
       "    </tr>\n",
       "    <tr>\n",
       "      <td>9769</td>\n",
       "      <td>13.361396</td>\n",
       "    </tr>\n",
       "    <tr>\n",
       "      <td>9770</td>\n",
       "      <td>81.624748</td>\n",
       "    </tr>\n",
       "    <tr>\n",
       "      <td>9771</td>\n",
       "      <td>11.513578</td>\n",
       "    </tr>\n",
       "    <tr>\n",
       "      <td>9772</td>\n",
       "      <td>8.762178</td>\n",
       "    </tr>\n",
       "    <tr>\n",
       "      <td>9773</td>\n",
       "      <td>19.257919</td>\n",
       "    </tr>\n",
       "  </tbody>\n",
       "</table>\n",
       "<p>9774 rows × 1 columns</p>\n",
       "</div>"
      ],
      "text/plain": [
       "              0\n",
       "0     13.907768\n",
       "1     12.138382\n",
       "2      6.834709\n",
       "3     31.313587\n",
       "4      4.338097\n",
       "...         ...\n",
       "9769  13.361396\n",
       "9770  81.624748\n",
       "9771  11.513578\n",
       "9772   8.762178\n",
       "9773  19.257919\n",
       "\n",
       "[9774 rows x 1 columns]"
      ]
     },
     "execution_count": 51,
     "metadata": {},
     "output_type": "execute_result"
    }
   ],
   "source": [
    "test_prediction"
   ]
  }
 ],
 "metadata": {
  "kernelspec": {
   "display_name": "Python 3",
   "language": "python",
   "name": "python3"
  },
  "language_info": {
   "codemirror_mode": {
    "name": "ipython",
    "version": 3
   },
   "file_extension": ".py",
   "mimetype": "text/x-python",
   "name": "python",
   "nbconvert_exporter": "python",
   "pygments_lexer": "ipython3",
   "version": "3.6.6"
  }
 },
 "nbformat": 4,
 "nbformat_minor": 1
}
